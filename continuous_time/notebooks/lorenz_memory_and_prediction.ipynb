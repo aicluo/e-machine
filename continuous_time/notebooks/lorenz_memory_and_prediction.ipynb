{
  "cells": [
    {
      "cell_type": "code",
      "execution_count": 1,
      "metadata": {
        "cellView": "form",
        "id": "OzVB6vQ6JGkI"
      },
      "outputs": [],
      "source": [
        "#@title Imports\n",
        "import numpy as np\n",
        "import random\n",
        "from matplotlib import pyplot as plt\n",
        "# from sklearn.ensemble import RandomForestRegressor\n",
        "from sklearn.model_selection import train_test_split\n",
        "from sklearn.metrics import mean_squared_error, r2_score\n",
        "from sklearn.linear_model import Ridge\n",
        "from sklearn.linear_model import LinearRegression\n",
        "import pandas as pd\n",
        "from multiprocessing import Pool"
      ]
    },
    {
      "cell_type": "code",
      "execution_count": 3,
      "metadata": {
        "cellView": "form",
        "id": "LdGzqTU3GYoO"
      },
      "outputs": [],
      "source": [
        "#@title Functions for generating inputs and states\n",
        "\n",
        "# Defining different reservoirs to experiment with\n",
        "\n",
        "# h       - reservoir state\n",
        "# W and u - reservoir weights\n",
        "# x_t     - input\n",
        "# dt      - time step\n",
        "\n",
        "def reservoir_0(h, W, u, x_t, dt):\n",
        "    return h + np.tanh(W*h + u*x_t)*dt\n",
        "\n",
        "def reservoir_1(h, W, u, x_t, dt):\n",
        "    return h + np.cos(W*h + u*x_t)*dt\n",
        "\n",
        "def reservoir_2(h, W, u, x_t, dt):\n",
        "    return h + np.cos(W*h + u*x_t) * np.tanh(W*h + u*x_t)*dt\n",
        "\n",
        "def reservoir_3(h, W, u, x_t, dt):\n",
        "    return h + (W*h + u*x_t)*dt\n",
        "\n",
        "\n",
        "# function which compiles the steps to generate inputs and reservoir states\n",
        "# input: reservoir function (optional, will default to tanh)\n",
        "def generate_states_lorenz(reservoir=reservoir_0,\n",
        "                           num_steps=100000, dt=0.0001,\n",
        "                           initial_conditions = (0., 1., 1.05)):\n",
        "  def lorenz(xyz, *, s=10, r=28, b=2.667):\n",
        "    \"\"\"\n",
        "    Parameters\n",
        "    ----------\n",
        "    xyz : array-like, shape (3,)\n",
        "       Point of interest in three-dimensional space.\n",
        "    s, r, b : float\n",
        "       Parameters defining the Lorenz attractor.\n",
        "\n",
        "    Returns\n",
        "    -------\n",
        "    xyz_dot : array, shape (3,)\n",
        "       Values of the Lorenz attractor's partial derivatives at *xyz*.\n",
        "    \"\"\"\n",
        "    x, y, z = xyz\n",
        "    x_dot = s*(y - x)\n",
        "    y_dot = r*x - y - x*z\n",
        "    z_dot = x*y - b*z\n",
        "    return np.array([x_dot, y_dot, z_dot])\n",
        "\n",
        "  xyzs = np.empty((num_steps + 1, 3))  # Need one more for the initial values\n",
        "  xyzs[0] = initial_conditions  # Set initial values\n",
        "\n",
        "  # x, y, z = [0] * 10001, [0] * 10001, [0] * 10001\n",
        "  # x[0], y[0], z[0] = xyzs[0]\n",
        "\n",
        "  # Step through \"time\", calculating the partial derivatives at the current point\n",
        "  # and using them to estimate the next point\n",
        "  for i in range(num_steps):\n",
        "      xyzs[i + 1] = xyzs[i] + lorenz(xyzs[i]) * dt\n",
        "\n",
        "  random.seed(10)\n",
        "  W = np.array([random.uniform(-1,1) for _ in range(3)])\n",
        "  u = np.array([random.uniform(-1,1) for _ in range(3)])\n",
        "  h = np.array([0 for _ in range(3)])\n",
        "\n",
        "  h_list = np.empty((num_steps + 2, 3))\n",
        "  h_list[0] = h\n",
        "\n",
        "  for i, xyz in enumerate(xyzs):\n",
        "    # see \"defining different reservoirs\" cell for more details on the reservoir\n",
        "    h = reservoir(h, W, u, xyz, dt)\n",
        "    h_list[i+1] = h\n",
        "\n",
        "  return xyzs, h_list"
      ]
    },
    {
      "cell_type": "code",
      "execution_count": 4,
      "metadata": {
        "cellView": "form",
        "id": "iioIqwbZGLbD"
      },
      "outputs": [],
      "source": [
        "#@title Functions for training readout layer\n",
        "\n",
        "def generate_offsets(input, reservoir_state, tau):\n",
        "  if tau == 0:\n",
        "    return input, reservoir_state[1:]\n",
        "  elif tau > 0:\n",
        "    return input[tau:], reservoir_state[1:-tau]\n",
        "  else:\n",
        "    return input[:tau], reservoir_state[1-tau:]\n",
        "\n",
        "def train_model(x, y, model):\n",
        "    # Flatten reservoir states for use as input features\n",
        "    emissions = np.array(y)  # Target outputs (emissions)\n",
        "\n",
        "    split_index = int(0.8 * len(x))  # 80% for training, 20% for testing\n",
        "\n",
        "    # Split into training and testing sets\n",
        "    X_train, X_test = x[:split_index], x[split_index:]\n",
        "    emissions_train, emissions_test = y[:split_index], y[split_index:]\n",
        "\n",
        "    # Initialize and train the regressor\n",
        "    model = model # RandomForestRegressor(n_estimators=100, random_state=42)\n",
        "    model.fit(X_train, emissions_train)\n",
        "\n",
        "    # EVALUATING ON TRAINING\n",
        "    emissions_pred_train = model.predict(X_train)\n",
        "    r2_train =  r2_score(emissions_train, emissions_pred_train)\n",
        "    mse_train = mean_squared_error(emissions_train, emissions_pred_train)\n",
        "\n",
        "    # EVALUATE ON TESTING\n",
        "    emissions_pred_test = model.predict(X_test)\n",
        "    r2_test = r2_score(emissions_test, emissions_pred_test)\n",
        "    mse_test = mean_squared_error(emissions_test, emissions_pred_test)\n",
        "\n",
        "    return model, r2_train, r2_test, mse_train, mse_test\n",
        "\n",
        "def testing_training_metrics(r2_train, r2_test, mse_train, mse_test):\n",
        "  data = {\n",
        "      \" \": [\"R^2\", \"MSE\"],\n",
        "      \"Training\": [r2_train, mse_train],\n",
        "      \"Testing\": [r2_test, mse_test]\n",
        "  }\n",
        "\n",
        "  df = pd.DataFrame(data)\n",
        "\n",
        "  return df"
      ]
    },
    {
      "cell_type": "code",
      "execution_count": 5,
      "metadata": {
        "id": "wvg6GRKleoez"
      },
      "outputs": [],
      "source": [
        "#@title Generating Lorenz attractor inputs and hidden states\n",
        "xyzs, h_list = generate_states_lorenz(reservoir_2,\n",
        "                                      num_steps=10000, dt=0.0001,\n",
        "                                      initial_conditions = (3, 3, 3))\n",
        "x_list = xyzs.T[0][2000:]\n",
        "h_x = h_list.T[0][2000:]"
      ]
    },
    {
      "cell_type": "markdown",
      "metadata": {
        "id": "fR8kuXbKhNqG"
      },
      "source": [
        "Plot System"
      ]
    },
    {
      "cell_type": "code",
      "execution_count": null,
      "metadata": {
        "id": "njlFp3_bhTGy"
      },
      "outputs": [],
      "source": [
        "# # Plot\n",
        "# ax = plt.figure().add_subplot(projection='3d')\n",
        "\n",
        "# ax.plot(*xyzs[2000:].T, lw=0.5)\n",
        "# ax.set_xlabel(\"X Axis\")\n",
        "# ax.set_ylabel(\"Y Axis\")\n",
        "# ax.set_zlabel(\"Z Axis\")\n",
        "# ax.set_title(\"Lorenz Attractor\")\n",
        "\n",
        "# plt.show()"
      ]
    },
    {
      "cell_type": "markdown",
      "metadata": {
        "id": "Rls4UIkdRjWx"
      },
      "source": [
        "Calculating memory and predictive capacity"
      ]
    },
    {
      "cell_type": "code",
      "execution_count": null,
      "metadata": {
        "id": "sF_NZI1_JEPp"
      },
      "outputs": [],
      "source": [
        "# y, x = generate_offsets(x_list, h_x, tau = 50)\n",
        "# x = [[i] for i in x] # fix dimensions\n",
        "# model = LinearRegression()\n",
        "# model,r2_train, r2_test, mse_train, mse_test = train_model(x, y, model)\n",
        "# print(testing_training_metrics(r2_train, r2_test, mse_train, mse_test))"
      ]
    },
    {
      "cell_type": "code",
      "execution_count": null,
      "metadata": {
        "id": "r_8JzBdzhWeQ"
      },
      "outputs": [],
      "source": [
        "r2 = []\n",
        "tau_range = range(-20000, 20000, 500)\n",
        "for tau in tau_range:\n",
        "  y, x = generate_offsets(x_list, h_x, tau = tau)\n",
        "  # print(\"Offset:\", tau)\n",
        "  # print(\"lengths:\", len(y), len(x))\n",
        "  x = [[i] for i in x] # fix dimensions\n",
        "  model = LinearRegression()\n",
        "  model,r2_train, r2_test, mse_train, mse_test = train_model(x, y, model)\n",
        "  r2.append(r2_train)"
      ]
    },
    {
      "cell_type": "code",
      "execution_count": null,
      "metadata": {
        "colab": {
          "base_uri": "https://localhost:8080/",
          "height": 448
        },
        "id": "D-UbvM-xh7gs",
        "outputId": "9771ae30-db16-4a25-bf3f-2fe341df6e39"
      },
      "outputs": [
        {
          "data": {
            "text/plain": [
              "[<matplotlib.lines.Line2D at 0x7e6cfcc20b90>]"
            ]
          },
          "execution_count": 9,
          "metadata": {},
          "output_type": "execute_result"
        },
        {
          "data": {
            "image/png": "[encoded data removed]",
            "text/plain": [
              "<Figure size 640x480 with 1 Axes>"
            ]
          },
          "metadata": {},
          "output_type": "display_data"
        }
      ],
      "source": [
        "plt.plot(tau_range, r2, 'o')\n"
      ]
    },
    {
      "cell_type": "code",
      "execution_count": null,
      "metadata": {},
      "outputs": [],
      "source": [
        "\n",
        "def f(tau):\n",
        "    # y, x = generate_offsets(x_list, h_x, tau = tau)\n",
        "    # print(x[1])\n",
        "    # print(y[1])\n",
        "    # # print(\"Offset:\", tau)\n",
        "    # # print(\"lengths:\", len(y), len(x))\n",
        "    # x = [[i] for i in x] # fix dimensions\n",
        "    # model = LinearRegression()\n",
        "    # model,r2_train, r2_test, mse_train, mse_test = train_model(x, y, model)\n",
        "    # return r2_train\n",
        "    return x^2\n",
        "\n",
        "tau_range = range(-20000, 20000, 500)\n",
        "with Pool() as p:\n",
        "    r2_list = p.map(f, [1])"
      ]
    },
    {
      "cell_type": "code",
      "execution_count": 3,
      "metadata": {},
      "outputs": [],
      "source": [
        "from multiprocessing import Pool"
      ]
    },
    {
      "cell_type": "code",
      "execution_count": 1,
      "metadata": {},
      "outputs": [],
      "source": [
        "def f(x):\n",
        "    return x*x\n"
      ]
    },
    {
      "cell_type": "code",
      "execution_count": null,
      "metadata": {},
      "outputs": [],
      "source": [
        "\n",
        "if __name__ == '__main__':\n",
        "    # start 4 worker processes\n",
        "    with Pool(processes=4) as pool:\n",
        "\n",
        "        # print \"[0, 1, 4,..., 81]\"\n",
        "        print(pool.map(f, range(10)))"
      ]
    }
  ],
  "metadata": {
    "colab": {
      "provenance": []
    },
    "kernelspec": {
      "display_name": "Python 3",
      "name": "python3"
    },
    "language_info": {
      "codemirror_mode": {
        "name": "ipython",
        "version": 3
      },
      "file_extension": ".py",
      "mimetype": "text/x-python",
      "name": "python",
      "nbconvert_exporter": "python",
      "pygments_lexer": "ipython3",
      "version": "3.10.6"
    }
  },
  "nbformat": 4,
  "nbformat_minor": 0
}
